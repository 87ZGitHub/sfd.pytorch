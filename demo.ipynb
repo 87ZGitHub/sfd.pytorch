{
 "cells": [
  {
   "cell_type": "code",
   "execution_count": 61,
   "metadata": {
    "collapsed": true,
    "deletable": true,
    "editable": true
   },
   "outputs": [],
   "source": [
    "import torch\n",
    "import cv2\n",
    "import numpy as np\n",
    "from dataset import create_datasets\n",
    "from model import Net\n",
    "from anchor import generate_anchors, mark_anchors"
   ]
  },
  {
   "cell_type": "markdown",
   "metadata": {},
   "source": [
    "## 创建Datasets && 随机看一些图片和真值"
   ]
  },
  {
   "cell_type": "code",
   "execution_count": 32,
   "metadata": {
    "collapsed": true
   },
   "outputs": [],
   "source": [
    "train_dataset, val_dataset = create_datasets('/home/louis/datasets/wider_face')\n",
    "# TODO: show some images and ground truth bbox here"
   ]
  },
  {
   "cell_type": "markdown",
   "metadata": {},
   "source": [
    "## 创建模型并随机用某张图片正向获得Feature Maps"
   ]
  },
  {
   "cell_type": "code",
   "execution_count": 47,
   "metadata": {
    "collapsed": false,
    "deletable": true,
    "editable": true
   },
   "outputs": [],
   "source": [
    "image, annotation = train_dataset[0]\n",
    "height, width = image.shape[:2]\n",
    "image = cv2.resize(image, (640, 640))\n",
    "\n",
    "height_scale = 640.0 / height\n",
    "width_scale, height_scale = 640.0 / width, 640.0 / height\n",
    "\n",
    "_input = torch.tensor(image).permute(2, 0, 1).unsqueeze(0).float()\n",
    "net = Net()\n",
    "feature_maps = list(net(_input))"
   ]
  },
  {
   "cell_type": "code",
   "execution_count": 34,
   "metadata": {
    "collapsed": false
   },
   "outputs": [],
   "source": [
    "for index, feature_map in enumerate(feature_maps):\n",
    "    feature_maps[index] = feature_map.view(1, 6, -1) # 1 should be replaced by batch size"
   ]
  },
  {
   "cell_type": "markdown",
   "metadata": {},
   "source": [
    "### 每个Feature Map的预测数量"
   ]
  },
  {
   "cell_type": "code",
   "execution_count": 35,
   "metadata": {
    "collapsed": false
   },
   "outputs": [
    {
     "name": "stdout",
     "output_type": "stream",
     "text": [
      "predictions(4 + 2) of every feature map(from bottom to up) is [24964, 6084, 1444, 400, 100, 25]\n"
     ]
    }
   ],
   "source": [
    "feature_map_predictions = map(lambda x: x.size()[2], feature_maps)\n",
    "\n",
    "print(\"predictions(4 + 2) of every feature map(from bottom to up) is {}\".format( list(feature_map_predictions) ) )"
   ]
  },
  {
   "cell_type": "markdown",
   "metadata": {},
   "source": [
    "## 生成的Anchor"
   ]
  },
  {
   "cell_type": "code",
   "execution_count": 36,
   "metadata": {
    "collapsed": false
   },
   "outputs": [],
   "source": [
    "anchors = generate_anchors() # 使用默认设置"
   ]
  },
  {
   "cell_type": "code",
   "execution_count": 37,
   "metadata": {
    "collapsed": false
   },
   "outputs": [
    {
     "name": "stdout",
     "output_type": "stream",
     "text": [
      "anchors number for every scale (from bottom to up) is [25600, 6400, 1600, 400, 100, 25]\n"
     ]
    }
   ],
   "source": [
    "anchors_number = map(lambda x: len(x), anchors )\n",
    "print(\"anchors number for every scale (from bottom to up) is {}\".format(  list(anchors_number) ) )"
   ]
  },
  {
   "cell_type": "markdown",
   "metadata": {},
   "source": [
    "### 使用Ground Truth来标记Anchor"
   ]
  },
  {
   "cell_type": "code",
   "execution_count": 58,
   "metadata": {
    "collapsed": false
   },
   "outputs": [],
   "source": [
    "gt_bboxes_scaled = list(map(lambda x: [  x[0] * height_scale, x[1] * width_scale, x[2] * height_scale, x[3] * width_scale ] , annotation))"
   ]
  },
  {
   "cell_type": "markdown",
   "metadata": {},
   "source": [
    "## TODO: anchors 是否应该和 Feature Map 的 predictions 保持一致？？？？"
   ]
  },
  {
   "cell_type": "code",
   "execution_count": null,
   "metadata": {
    "collapsed": true
   },
   "outputs": [],
   "source": []
  }
 ],
 "metadata": {
  "kernelspec": {
   "display_name": "Python 3",
   "language": "python",
   "name": "python3"
  },
  "language_info": {
   "codemirror_mode": {
    "name": "ipython",
    "version": 3
   },
   "file_extension": ".py",
   "mimetype": "text/x-python",
   "name": "python",
   "nbconvert_exporter": "python",
   "pygments_lexer": "ipython3",
   "version": "3.6.2"
  }
 },
 "nbformat": 4,
 "nbformat_minor": 2
}
