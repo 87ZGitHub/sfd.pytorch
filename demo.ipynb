{
 "cells": [
  {
   "cell_type": "code",
   "execution_count": 1,
   "metadata": {
    "collapsed": false,
    "deletable": true,
    "editable": true
   },
   "outputs": [],
   "source": [
    "import torch\n",
    "import torch.nn.functional as F\n",
    "import cv2\n",
    "import numpy as np\n",
    "from dataset import create_datasets\n",
    "from model import Net\n",
    "from anchor import generate_anchors, mark_anchors"
   ]
  },
  {
   "cell_type": "markdown",
   "metadata": {
    "deletable": true,
    "editable": true
   },
   "source": [
    "## 创建Datasets && 随机看一些图片和真值"
   ]
  },
  {
   "cell_type": "code",
   "execution_count": 2,
   "metadata": {
    "collapsed": true,
    "deletable": true,
    "editable": true
   },
   "outputs": [],
   "source": [
    "train_dataset, val_dataset = create_datasets('/home/louis/datasets/wider_face')\n",
    "# TODO: show some images and ground truth bbox here"
   ]
  },
  {
   "cell_type": "markdown",
   "metadata": {
    "deletable": true,
    "editable": true
   },
   "source": [
    "## 创建模型并随机用某张图片正向获得Predictions"
   ]
  },
  {
   "cell_type": "code",
   "execution_count": 3,
   "metadata": {
    "collapsed": false,
    "deletable": true,
    "editable": true
   },
   "outputs": [],
   "source": [
    "image, annotation = train_dataset[0]\n",
    "height, width = image.shape[:2]\n",
    "image = cv2.resize(image, (640, 640))\n",
    "\n",
    "height_scale = 640.0 / height\n",
    "width_scale, height_scale = 640.0 / width, 640.0 / height\n",
    "\n",
    "_input = torch.tensor(image).permute(2, 0, 1).unsqueeze(0).float()\n",
    "_inputs = torch.cat( [_input, _input] )\n",
    "net = Net()\n",
    "predictions = list(net(_inputs))"
   ]
  },
  {
   "cell_type": "code",
   "execution_count": 7,
   "metadata": {
    "collapsed": false
   },
   "outputs": [
    {
     "name": "stdout",
     "output_type": "stream",
     "text": [
      "6\n"
     ]
    }
   ],
   "source": [
    "print(len(predictions))"
   ]
  },
  {
   "cell_type": "code",
   "execution_count": 4,
   "metadata": {
    "collapsed": false,
    "deletable": true,
    "editable": true
   },
   "outputs": [],
   "source": [
    "for index, prediction in enumerate(predictions):\n",
    "    predictions[index] = prediction.view(1, 6, -1) # 1 should be replaced by batch size"
   ]
  },
  {
   "cell_type": "markdown",
   "metadata": {
    "deletable": true,
    "editable": true
   },
   "source": [
    "### 每个feature map的预测数量"
   ]
  },
  {
   "cell_type": "code",
   "execution_count": 5,
   "metadata": {
    "collapsed": false,
    "deletable": true,
    "editable": true
   },
   "outputs": [
    {
     "name": "stdout",
     "output_type": "stream",
     "text": [
      "predictions(4 + 2) of every feature map(from bottom to up) is [25600, 6400, 1600, 400, 100, 25]\n"
     ]
    }
   ],
   "source": [
    "prediction_count = list(map(lambda x: x.size()[2], predictions))\n",
    "print(\"predictions(4 + 2) of every feature map(from bottom to up) is {}\".format( list(prediction_count) ) )"
   ]
  },
  {
   "cell_type": "markdown",
   "metadata": {
    "deletable": true,
    "editable": true
   },
   "source": [
    "## 生成的Anchor"
   ]
  },
  {
   "cell_type": "code",
   "execution_count": 6,
   "metadata": {
    "collapsed": false,
    "deletable": true,
    "editable": true
   },
   "outputs": [],
   "source": [
    "anchors = generate_anchors() # 使用默认设置"
   ]
  },
  {
   "cell_type": "markdown",
   "metadata": {},
   "source": [
    "### 把predictions和anchor转换成二维矩阵   ( batch_size x anchor_size x 6 or 4)"
   ]
  },
  {
   "cell_type": "code",
   "execution_count": 7,
   "metadata": {
    "collapsed": false
   },
   "outputs": [
    {
     "name": "stdout",
     "output_type": "stream",
     "text": [
      "torch.Size([1, 34125, 6])\n"
     ]
    }
   ],
   "source": [
    "predictions_concated = torch.cat(predictions, dim=2).permute(0, 2, 1)\n",
    "print(predictions_concated.size())"
   ]
  },
  {
   "cell_type": "code",
   "execution_count": 8,
   "metadata": {
    "collapsed": false
   },
   "outputs": [
    {
     "name": "stdout",
     "output_type": "stream",
     "text": [
      "(34125, 4)\n"
     ]
    }
   ],
   "source": [
    "anchors = np.vstack(list(map(lambda x: np.array(x), anchors)))\n",
    "print(anchors.shape)"
   ]
  },
  {
   "cell_type": "markdown",
   "metadata": {},
   "source": [
    "### 使用Ground Truth来标记Anchor\n"
   ]
  },
  {
   "cell_type": "code",
   "execution_count": 9,
   "metadata": {
    "collapsed": false
   },
   "outputs": [
    {
     "name": "stdout",
     "output_type": "stream",
     "text": [
      "(array([32378, 32417, 32418, 32419]),)\n",
      "[0 0 0 0]\n",
      "(array([    0,     1,     2, ..., 34122, 34123, 34124]),)\n"
     ]
    }
   ],
   "source": [
    "gt_bboxes_scaled = list(map(lambda x: [  x[0] * height_scale, x[1] * width_scale, x[2] * height_scale, x[3] * width_scale ] , annotation))\n",
    "gt_bboxes_scaled = np.array(gt_bboxes_scaled)\n",
    "positive_anchor_indices, matched_gt_box_indices, negative_anchor_indices = mark_anchors(anchors, gt_bboxes_scaled)\n",
    "\n",
    "print(positive_anchor_indices)\n",
    "print(matched_gt_box_indices)\n",
    "print(negative_anchor_indices)"
   ]
  },
  {
   "cell_type": "markdown",
   "metadata": {},
   "source": [
    "## 计算Loss\n",
    "\n",
    "针对每一个Anchor，我们有一个大小为6的预测向量（position delta + score），现在我们又根据真值标记出了正Anchor和负Anchor，以及每个正Anchor所对应的真值bbox，则可以进行Loss的计算了。\n",
    "\n",
    "这里有两个loss，回归（Smooth L1 loss）和分类（cross entropy loss）"
   ]
  },
  {
   "cell_type": "markdown",
   "metadata": {},
   "source": [
    "### 回归Loss，参考Faster RCNN 公式2"
   ]
  },
  {
   "cell_type": "code",
   "execution_count": 10,
   "metadata": {
    "collapsed": true
   },
   "outputs": [],
   "source": [
    "# 预测bbox 和 真值bbox 同时对 Anchor 计算 t 和 t'  ， loss = L1 loss of  t and t'， 注意 x y对应的是center，而不是left top\n",
    "def change_coordinate(coordinates):\n",
    "    \"\"\"change top left bottom right to center x center y, width, height\"\"\"\n",
    "    width = (coordinates[:, 3] - coordinates[:, 1])[:, np.newaxis]\n",
    "    height = (coordinates[: ,2] - coordinates[: ,0])[:, np.newaxis]\n",
    "    center_x = ((coordinates[: ,3] + coordinates[:, 1]) / 2)[:, np.newaxis]\n",
    "    center_y = ((coordinates[:, 2] + coordinates[: ,0]) / 2)[:, np.newaxis]\n",
    "    return np.concatenate( [center_x, center_y, width, height] , axis=1  )"
   ]
  },
  {
   "cell_type": "code",
   "execution_count": 11,
   "metadata": {
    "collapsed": false
   },
   "outputs": [],
   "source": [
    "# 选出参与计算回归Loss的Anchor和predictions，包括对应的ground truth\n",
    "anchors_positive = torch.tensor(change_coordinate(anchors[positive_anchor_indices])).float() / 640\n",
    "matched_bboxes = torch.tensor(change_coordinate(gt_bboxes_scaled[matched_gt_box_indices])).float() / 640\n",
    "positive_predictions = torch.squeeze(predictions_concated)[positive_anchor_indices][:, :4]\n",
    "\n",
    "epsilon = 0.0001\n",
    "# 计算RPN公式5的8个变量\n",
    "tx = positive_predictions[:, 0] - anchors_positive[:, 0]\n",
    "ty = positive_predictions[:, 1] - anchors_positive[:, 1]\n",
    "tw = torch.log( (positive_predictions[:, 2] + epsilon) / anchors_positive[:, 2])\n",
    "th = torch.log( (positive_predictions[:, 3] + epsilon) / anchors_positive[:, 3])\n",
    "t = torch.stack( (tx, ty, tw, th) )\n",
    "\n",
    "gtx = matched_bboxes[:, 0] - anchors_positive[:, 0]\n",
    "gty = matched_bboxes[:, 1] - anchors_positive[:, 1]\n",
    "gtw = torch.log(matched_bboxes[:, 2] / anchors_positive[:, 2])\n",
    "gth = torch.log(matched_bboxes[:, 3] / anchors_positive[:, 3])\n",
    "gt = torch.stack( (gtx, gty, gtw, gth) )"
   ]
  },
  {
   "cell_type": "code",
   "execution_count": 12,
   "metadata": {
    "collapsed": false
   },
   "outputs": [
    {
     "data": {
      "text/plain": [
       "tensor(2.5198)"
      ]
     },
     "execution_count": 12,
     "metadata": {},
     "output_type": "execute_result"
    }
   ],
   "source": [
    "F.smooth_l1_loss(t, gt)"
   ]
  },
  {
   "cell_type": "code",
   "execution_count": 27,
   "metadata": {
    "collapsed": false
   },
   "outputs": [],
   "source": [
    "# 选出所有被标记为正/负的anchor，以及对应的predictions\n",
    "positive_predictions = torch.squeeze(predictions_concated)[positive_anchor_indices][:, 4:]\n",
    "negative_predictions = torch.squeeze(predictions_concated)[negative_anchor_indices][:, 4:]"
   ]
  },
  {
   "cell_type": "code",
   "execution_count": 46,
   "metadata": {
    "collapsed": false
   },
   "outputs": [],
   "source": [
    "positive_target = torch.zeros_like( positive_predictions )\n",
    "positive_target[:, 1] = 1.0\n",
    "negative_target = torch.zeros_like(  negative_predictions )\n",
    "negative_target[:, 0] = 1.0\n",
    "\n",
    "\n",
    "effective_predictions = torch.cat( (positive_predictions, negative_predictions))\n",
    "targets = torch.cat( (positive_target, negative_target) )\n",
    "\n",
    "shuffle_indexes = torch.randperm(effective_predictions.size()[0])\n",
    "effective_predictions = effective_predictions[shuffle_indexes]\n",
    "targets = targets[shuffle_indexes]\n"
   ]
  },
  {
   "cell_type": "code",
   "execution_count": 47,
   "metadata": {
    "collapsed": false
   },
   "outputs": [
    {
     "data": {
      "text/plain": [
       "tensor(0.7147)"
      ]
     },
     "execution_count": 47,
     "metadata": {},
     "output_type": "execute_result"
    }
   ],
   "source": [
    "F.binary_cross_entropy(F.sigmoid(effective_predictions), targets)"
   ]
  },
  {
   "cell_type": "code",
   "execution_count": null,
   "metadata": {
    "collapsed": true
   },
   "outputs": [],
   "source": []
  },
  {
   "cell_type": "code",
   "execution_count": null,
   "metadata": {
    "collapsed": true
   },
   "outputs": [],
   "source": []
  },
  {
   "cell_type": "code",
   "execution_count": null,
   "metadata": {
    "collapsed": true
   },
   "outputs": [],
   "source": []
  },
  {
   "cell_type": "code",
   "execution_count": null,
   "metadata": {
    "collapsed": true
   },
   "outputs": [],
   "source": []
  },
  {
   "cell_type": "code",
   "execution_count": null,
   "metadata": {
    "collapsed": true
   },
   "outputs": [],
   "source": []
  }
 ],
 "metadata": {
  "kernelspec": {
   "display_name": "Python 3",
   "language": "python",
   "name": "python3"
  },
  "language_info": {
   "codemirror_mode": {
    "name": "ipython",
    "version": 3
   },
   "file_extension": ".py",
   "mimetype": "text/x-python",
   "name": "python",
   "nbconvert_exporter": "python",
   "pygments_lexer": "ipython3",
   "version": "3.6.2"
  }
 },
 "nbformat": 4,
 "nbformat_minor": 2
}
